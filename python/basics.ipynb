{
 "cells": [
  {
   "cell_type": "markdown",
   "metadata": {},
   "source": [
    "uses of cotetion\n"
   ]
  },
  {
   "cell_type": "code",
   "execution_count": 5,
   "metadata": {},
   "outputs": [
    {
     "name": "stdout",
     "output_type": "stream",
     "text": [
      "hii\n",
      "this's is my notebook\n",
      "it's shiva mishra\n",
      "hello every one\n",
      "it is use for many  lines codes\n",
      "you can alsosee this\n"
     ]
    }
   ],
   "source": [
    "print(\"hii\")\n",
    "print(\"this's is my notebook\") #print(\"this is my notebook\")\n",
    "print('it\\'s shiva mishra')\n",
    "print(\"\"\"hello every one\n",
    "it is use for many  lines codes\n",
    "you can alsosee this\"\"\")"
   ]
  },
  {
   "cell_type": "markdown",
   "metadata": {},
   "source": [
    "Comments in python"
   ]
  },
  {
   "cell_type": "code",
   "execution_count": 6,
   "metadata": {},
   "outputs": [
    {
     "data": {
      "text/plain": [
       "'it is  use for \\nmultiline cotetion\\nthis is theird line\\n'"
      ]
     },
     "execution_count": 6,
     "metadata": {},
     "output_type": "execute_result"
    }
   ],
   "source": [
    "# is use for single line comment\n",
    "\n",
    "#In this we use commen in one line and python ignore this line \n",
    "\"\"\"it is  use for \n",
    "multiline cotetion\n",
    "this is theird line\n",
    "\"\"\""
   ]
  },
  {
   "cell_type": "markdown",
   "metadata": {},
   "source": [
    "variable in python"
   ]
  },
  {
   "cell_type": "code",
   "execution_count": 7,
   "metadata": {},
   "outputs": [
    {
     "name": "stdout",
     "output_type": "stream",
     "text": [
      "hello\n"
     ]
    }
   ],
   "source": [
    "#python is case senstitive\n",
    "a = \"hello\"\n",
    "print(a)"
   ]
  },
  {
   "cell_type": "markdown",
   "metadata": {},
   "source": [
    "Datatype and User_input"
   ]
  },
  {
   "cell_type": "code",
   "execution_count": 8,
   "metadata": {},
   "outputs": [
    {
     "name": "stdout",
     "output_type": "stream",
     "text": [
      "23\n"
     ]
    }
   ],
   "source": [
    "name = input(\"what is your name\") #for text\n",
    "age = int(input(\"what is your age\")) # for integer\n",
    "length = float(input(\"what is the float value\")) #it is use for float value\n",
    "# print(name)\n",
    "# print(age)\n",
    "# print(length)\n",
    "# now we might be give the value of like name, age, lenght\n",
    "exp1 = eval(input(\"enter the enaluation numbber:\"))\n",
    "print(exp1) # in this we give the input 43+37 the calculate this from this function"
   ]
  },
  {
   "cell_type": "markdown",
   "metadata": {},
   "source": [
    "Datatype"
   ]
  },
  {
   "cell_type": "code",
   "execution_count": 9,
   "metadata": {},
   "outputs": [
    {
     "name": "stdout",
     "output_type": "stream",
     "text": [
      "<class 'int'>\n"
     ]
    }
   ],
   "source": [
    "age = 36\n",
    "print(type(age))"
   ]
  },
  {
   "cell_type": "code",
   "execution_count": 10,
   "metadata": {},
   "outputs": [
    {
     "name": "stdout",
     "output_type": "stream",
     "text": [
      "<class 'str'>\n"
     ]
    }
   ],
   "source": [
    "name = \"shiva\"\n",
    "print(type(name))"
   ]
  },
  {
   "cell_type": "code",
   "execution_count": 11,
   "metadata": {},
   "outputs": [
    {
     "name": "stdout",
     "output_type": "stream",
     "text": [
      "<class 'int'>\n",
      "<class 'float'>\n",
      "436.57\n",
      "<class 'float'>\n",
      "after convertion <class 'float'>\n",
      "378.0\n"
     ]
    }
   ],
   "source": [
    "a = 378\n",
    "b = 58.57\n",
    "print(type(a))\n",
    "print(type(b))\n",
    "c  = a+b\n",
    "print(c)\n",
    "print(type(c))\n",
    "a = float(a)\n",
    "print(\"after convertion\",type(a))\n",
    "print(a)\n"
   ]
  },
  {
   "cell_type": "markdown",
   "metadata": {},
   "source": [
    "Problem solving"
   ]
  },
  {
   "cell_type": "code",
   "execution_count": 12,
   "metadata": {},
   "outputs": [
    {
     "name": "stdout",
     "output_type": "stream",
     "text": [
      "Shiva Mishra\n",
      "34\n",
      "711 purani haveli dada jii ka ghar\n"
     ]
    }
   ],
   "source": [
    "# write a  code to display a person`s name, age, address in three different lines.\n",
    "\n",
    "name = \"Shiva Mishra\"\n",
    "age = 34\n",
    "address = \"711 purani haveli dada jii ka ghar\"\n",
    "print(name)\n",
    "print(age)\n",
    "print(address)\n",
    "# print (name,age,address)__from this  these all are print in one line "
   ]
  },
  {
   "cell_type": "code",
   "execution_count": 13,
   "metadata": {},
   "outputs": [
    {
     "name": "stdout",
     "output_type": "stream",
     "text": [
      "12\n",
      "13\n",
      "12\n",
      "value of x is: 13\n",
      "value of y is: 12\n",
      "57\n",
      "38\n"
     ]
    }
   ],
   "source": [
    "# swappinng  of  variable\n",
    "# In python when we use \"=\" sign that mean right value is swap in left side.\n",
    "\n",
    "x= (12)\n",
    "y= (13)\n",
    "temp = x\n",
    "print (temp)\n",
    "x = y\n",
    "print(x)\n",
    "y = temp\n",
    "print(y)\n",
    "print(\"value of x is:\",x)\n",
    "print(\"value of y is:\",y )\n",
    "\n",
    "# method 2\n",
    "\n",
    "a = 38\n",
    "b = 57\n",
    "  #left,right=right,left\n",
    "a,b=b,a\n",
    "print(a)\n",
    "print(b)"
   ]
  },
  {
   "cell_type": "code",
   "execution_count": 14,
   "metadata": {},
   "outputs": [
    {
     "name": "stdout",
     "output_type": "stream",
     "text": [
      "38\n",
      "12\n",
      "38\n"
     ]
    }
   ],
   "source": [
    "# in practice time\n",
    "x = (38)\n",
    "y = (12)\n",
    "temp=x\n",
    "print(temp)\n",
    "x=y\n",
    "print(x)\n",
    "y = temp\n",
    "print(y)"
   ]
  },
  {
   "cell_type": "code",
   "execution_count": 15,
   "metadata": {},
   "outputs": [
    {
     "name": "stdout",
     "output_type": "stream",
     "text": [
      "<class 'float'>\n",
      "after convertion <class 'int'>\n",
      "34\n"
     ]
    }
   ],
   "source": [
    "# write  a  program to connvert  float into integer. \n",
    "\n",
    "x = 34.5\n",
    "print(type(x))\n",
    "x = int(x)\n",
    "print(\"after convertion\",type(x))\n",
    "print(x)"
   ]
  },
  {
   "cell_type": "code",
   "execution_count": 16,
   "metadata": {},
   "outputs": [
    {
     "name": "stdout",
     "output_type": "stream",
     "text": [
      "name:  shiva\n",
      "grade:  12\n",
      "age:  21\n",
      "phone_no.:  33343326555\n",
      "email : shiva09@gmail.com\n"
     ]
    }
   ],
   "source": [
    "# write a  program  to take take detail  from student for ID-Card abnd  then printit in different lines. \n",
    "\n",
    "name = input(\"Enter the name of student: \")\n",
    "grade = int(input(\"Enter the grade of student: \"))\n",
    "age = int(input(\"enter the age of student: \"))\n",
    "email = input(\"enter the e-mail of student: \")\n",
    "ph_no = input(\"enter the phone_no. of stuent: \")\n",
    "print(\"name: \", name)\n",
    "print(\"grade: \", grade)\n",
    "print(\"age: \", age)\n",
    "print(\"phone_no.: \", ph_no)\n",
    "print(\"email :\", email)"
   ]
  },
  {
   "cell_type": "code",
   "execution_count": 17,
   "metadata": {},
   "outputs": [
    {
     "name": "stdout",
     "output_type": "stream",
     "text": [
      "23\n",
      "<class 'int'>\n",
      "after convertion 23.0\n",
      "<class 'float'>\n"
     ]
    }
   ],
   "source": [
    "# write a program to take on user input as integer then convert into float\n",
    "\n",
    "age= int(input(\"write the age\"))\n",
    "print(age)\n",
    "print(type(age))\n",
    "age = float(age)\n",
    "print(\"after convertion\",(age))\n",
    "print(type(age))"
   ]
  },
  {
   "cell_type": "code",
   "execution_count": 18,
   "metadata": {},
   "outputs": [
    {
     "name": "stdout",
     "output_type": "stream",
     "text": [
      "23\n",
      "<class 'int'>\n",
      "23.0\n",
      "<class 'float'>\n"
     ]
    }
   ],
   "source": [
    "age = int(input(\"type age:\"))\n",
    "print(age)\n",
    "print(type(age))\n",
    "age= float(age)\n",
    "print(age)\n",
    "print(type(age))"
   ]
  },
  {
   "cell_type": "markdown",
   "metadata": {},
   "source": [
    "# Type casting and sub typecasting"
   ]
  },
  {
   "cell_type": "markdown",
   "metadata": {},
   "source": []
  },
  {
   "cell_type": "markdown",
   "metadata": {},
   "source": []
  }
 ],
 "metadata": {
  "kernelspec": {
   "display_name": "base",
   "language": "python",
   "name": "python3"
  },
  "language_info": {
   "codemirror_mode": {
    "name": "ipython",
    "version": 3
   },
   "file_extension": ".py",
   "mimetype": "text/x-python",
   "name": "python",
   "nbconvert_exporter": "python",
   "pygments_lexer": "ipython3",
   "version": "3.12.7"
  }
 },
 "nbformat": 4,
 "nbformat_minor": 2
}
